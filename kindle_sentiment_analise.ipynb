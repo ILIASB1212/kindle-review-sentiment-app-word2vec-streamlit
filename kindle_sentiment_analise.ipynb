{
 "cells": [
  {
   "cell_type": "code",
   "execution_count": 58,
   "id": "870551bb-0925-412a-a3f8-07ec5760e257",
   "metadata": {
    "scrolled": true
   },
   "outputs": [],
   "source": [
    "import warnings\n",
    "warnings.filterwarnings('ignore')"
   ]
  },
  {
   "cell_type": "code",
   "execution_count": 59,
   "id": "377f0e65-95fc-4b6a-81ab-ce98b859d0a9",
   "metadata": {},
   "outputs": [],
   "source": [
    "import pandas as pd\n",
    "import numpy as np"
   ]
  },
  {
   "cell_type": "code",
   "execution_count": 60,
   "id": "7e1280b7-40aa-43b8-b49f-3991e9e7f3ce",
   "metadata": {},
   "outputs": [],
   "source": [
    "data=pd.read_csv(\"all_kindle_review.csv\")\n",
    "df=data[[\"reviewText\",\"rating\"]]"
   ]
  },
  {
   "cell_type": "code",
   "execution_count": 61,
   "id": "6875a95a-3785-4981-929a-53f4f79ed1ee",
   "metadata": {},
   "outputs": [],
   "source": [
    "df['rating']=np.where(df['rating']<3,0,1)"
   ]
  },
  {
   "cell_type": "code",
   "execution_count": 62,
   "id": "fcd8d3b9-8089-4d2c-9fc2-7090d9f6432f",
   "metadata": {},
   "outputs": [
    {
     "data": {
      "text/plain": [
       "rating\n",
       "1    8000\n",
       "0    4000\n",
       "Name: count, dtype: int64"
      ]
     },
     "execution_count": 62,
     "metadata": {},
     "output_type": "execute_result"
    }
   ],
   "source": [
    "df['rating'].value_counts()"
   ]
  },
  {
   "cell_type": "code",
   "execution_count": 63,
   "id": "13367a80-7782-48ef-80ee-fc4fd1c4a336",
   "metadata": {},
   "outputs": [
    {
     "data": {
      "text/html": [
       "<div>\n",
       "<style scoped>\n",
       "    .dataframe tbody tr th:only-of-type {\n",
       "        vertical-align: middle;\n",
       "    }\n",
       "\n",
       "    .dataframe tbody tr th {\n",
       "        vertical-align: top;\n",
       "    }\n",
       "\n",
       "    .dataframe thead th {\n",
       "        text-align: right;\n",
       "    }\n",
       "</style>\n",
       "<table border=\"1\" class=\"dataframe\">\n",
       "  <thead>\n",
       "    <tr style=\"text-align: right;\">\n",
       "      <th></th>\n",
       "      <th>reviewText</th>\n",
       "      <th>rating</th>\n",
       "    </tr>\n",
       "  </thead>\n",
       "  <tbody>\n",
       "    <tr>\n",
       "      <th>0</th>\n",
       "      <td>Jace Rankin may be short, but he's nothing to ...</td>\n",
       "      <td>1</td>\n",
       "    </tr>\n",
       "    <tr>\n",
       "      <th>1</th>\n",
       "      <td>Great short read.  I didn't want to put it dow...</td>\n",
       "      <td>1</td>\n",
       "    </tr>\n",
       "    <tr>\n",
       "      <th>2</th>\n",
       "      <td>I'll start by saying this is the first of four...</td>\n",
       "      <td>1</td>\n",
       "    </tr>\n",
       "    <tr>\n",
       "      <th>3</th>\n",
       "      <td>Aggie is Angela Lansbury who carries pocketboo...</td>\n",
       "      <td>1</td>\n",
       "    </tr>\n",
       "    <tr>\n",
       "      <th>4</th>\n",
       "      <td>I did not expect this type of book to be in li...</td>\n",
       "      <td>1</td>\n",
       "    </tr>\n",
       "  </tbody>\n",
       "</table>\n",
       "</div>"
      ],
      "text/plain": [
       "                                          reviewText  rating\n",
       "0  Jace Rankin may be short, but he's nothing to ...       1\n",
       "1  Great short read.  I didn't want to put it dow...       1\n",
       "2  I'll start by saying this is the first of four...       1\n",
       "3  Aggie is Angela Lansbury who carries pocketboo...       1\n",
       "4  I did not expect this type of book to be in li...       1"
      ]
     },
     "execution_count": 63,
     "metadata": {},
     "output_type": "execute_result"
    }
   ],
   "source": [
    "df.head()"
   ]
  },
  {
   "cell_type": "code",
   "execution_count": 75,
   "id": "49438f35-34d7-44d1-b590-a27155042197",
   "metadata": {},
   "outputs": [],
   "source": [
    "import re\n",
    "from nltk.corpus import stopwords\n",
    "from nltk.stem.porter import PorterStemmer\n",
    "ps=PorterStemmer()"
   ]
  },
  {
   "cell_type": "code",
   "execution_count": 110,
   "id": "2cb27821-7d4c-4402-8620-c7302231bf50",
   "metadata": {},
   "outputs": [],
   "source": [
    "def prep(message):\n",
    "    clean_message=re.sub('[^a-zA-Z0-9]',' ',message)\n",
    "    lower_sms=clean_message.lower()\n",
    "    splited=lower_sms.split()\n",
    "    new_message=[ps.stem(word) for word in splited if not word in stopwords.words('english')]\n",
    "    return new_message"
   ]
  },
  {
   "cell_type": "code",
   "execution_count": 111,
   "id": "8c285822-3d86-4143-9410-abb64bc6c4e9",
   "metadata": {},
   "outputs": [],
   "source": [
    "df[\"reviewText\"]=df[\"reviewText\"].apply(prep)"
   ]
  },
  {
   "cell_type": "code",
   "execution_count": 112,
   "id": "710bdcaf-ea4b-4b63-b9a9-a0b5d2df1f02",
   "metadata": {},
   "outputs": [
    {
     "data": {
      "text/html": [
       "<div>\n",
       "<style scoped>\n",
       "    .dataframe tbody tr th:only-of-type {\n",
       "        vertical-align: middle;\n",
       "    }\n",
       "\n",
       "    .dataframe tbody tr th {\n",
       "        vertical-align: top;\n",
       "    }\n",
       "\n",
       "    .dataframe thead th {\n",
       "        text-align: right;\n",
       "    }\n",
       "</style>\n",
       "<table border=\"1\" class=\"dataframe\">\n",
       "  <thead>\n",
       "    <tr style=\"text-align: right;\">\n",
       "      <th></th>\n",
       "      <th>reviewText</th>\n",
       "      <th>rating</th>\n",
       "    </tr>\n",
       "  </thead>\n",
       "  <tbody>\n",
       "    <tr>\n",
       "      <th>0</th>\n",
       "      <td>[jace, rankin, may, short, noth, mess, man, ha...</td>\n",
       "      <td>1</td>\n",
       "    </tr>\n",
       "    <tr>\n",
       "      <th>1</th>\n",
       "      <td>[great, short, read, want, put, read, one, sit...</td>\n",
       "      <td>1</td>\n",
       "    </tr>\n",
       "    <tr>\n",
       "      <th>2</th>\n",
       "      <td>[start, say, first, four, book, expect, 34, co...</td>\n",
       "      <td>1</td>\n",
       "    </tr>\n",
       "    <tr>\n",
       "      <th>3</th>\n",
       "      <td>[aggi, angela, lansburi, carri, pocketbook, in...</td>\n",
       "      <td>1</td>\n",
       "    </tr>\n",
       "    <tr>\n",
       "      <th>4</th>\n",
       "      <td>[expect, type, book, librari, plea, find, pric...</td>\n",
       "      <td>1</td>\n",
       "    </tr>\n",
       "  </tbody>\n",
       "</table>\n",
       "</div>"
      ],
      "text/plain": [
       "                                          reviewText  rating\n",
       "0  [jace, rankin, may, short, noth, mess, man, ha...       1\n",
       "1  [great, short, read, want, put, read, one, sit...       1\n",
       "2  [start, say, first, four, book, expect, 34, co...       1\n",
       "3  [aggi, angela, lansburi, carri, pocketbook, in...       1\n",
       "4  [expect, type, book, librari, plea, find, pric...       1"
      ]
     },
     "execution_count": 112,
     "metadata": {},
     "output_type": "execute_result"
    }
   ],
   "source": [
    "df.head()"
   ]
  },
  {
   "cell_type": "code",
   "execution_count": 113,
   "id": "1174ce43-fc92-4b03-a8a2-cb8360354b21",
   "metadata": {},
   "outputs": [],
   "source": [
    "from sklearn.model_selection import train_test_split\n",
    "x_train,x_test,y_train,y_test=train_test_split(df['reviewText'],df[\"rating\"],test_size=0.2)"
   ]
  },
  {
   "cell_type": "code",
   "execution_count": 135,
   "id": "a5e00df1-d224-4877-8992-03097f760a50",
   "metadata": {},
   "outputs": [],
   "source": [
    "from gensim.models import Word2Vec  \n",
    "\n",
    "model = Word2Vec(\n",
    "    sentences=x_train,          \n",
    "    vector_size=100,         \n",
    "    window=5,                \n",
    "    min_count=1,             \n",
    "    workers=4,               \n",
    "    sg=1                \n",
    ")"
   ]
  },
  {
   "cell_type": "code",
   "execution_count": 136,
   "id": "4769435f-6d34-405f-a389-737a0cf3cee3",
   "metadata": {},
   "outputs": [],
   "source": [
    "import numpy as np\n",
    "\n",
    "def sentence_vector(tokens, model):\n",
    "    vectors = [model.wv[word] for word in tokens if word in model.wv]\n",
    "    if len(vectors) == 0:\n",
    "        return np.zeros(model.vector_size)\n",
    "    return np.mean(vectors, axis=0)\n",
    "\n",
    "# Vectorize train/test reviews\n",
    "x_train_vec = np.array([sentence_vector(tokens, model) for tokens in x_train])\n",
    "x_test_vec = np.array([sentence_vector(tokens, model) for tokens in x_test])\n"
   ]
  },
  {
   "cell_type": "code",
   "execution_count": 137,
   "id": "99ce4985-7770-4405-92b9-e3c44aa03019",
   "metadata": {
    "scrolled": true
   },
   "outputs": [
    {
     "name": "stdout",
     "output_type": "stream",
     "text": [
      "report:               precision    recall  f1-score   support\n",
      "\n",
      "           0       0.72      0.60      0.66       811\n",
      "           1       0.81      0.88      0.85      1589\n",
      "\n",
      "    accuracy                           0.79      2400\n",
      "   macro avg       0.77      0.74      0.75      2400\n",
      "weighted avg       0.78      0.79      0.78      2400\n",
      "\n"
     ]
    }
   ],
   "source": [
    "from sklearn.ensemble import RandomForestClassifier\n",
    "from sklearn.metrics import classification_report\n",
    "\n",
    "forest_ml = RandomForestClassifier()\n",
    "forest_ml.fit(x_train_vec, y_train)\n",
    "\n",
    "# Predict\n",
    "y_pred = forest_ml.predict(x_test_vec)\n",
    "\n",
    "# Evaluate\n",
    "print(\"report:\", classification_report(y_test, y_pred))"
   ]
  },
  {
   "cell_type": "code",
   "execution_count": 108,
   "id": "258545fb-ac12-48f3-bd68-2d76b40d3a47",
   "metadata": {},
   "outputs": [
    {
     "data": {
      "text/plain": [
       "[('WOMAN', 0.6663078665733337),\n",
       " ('FOR_ALL_SEASONS', 0.6564740538597107),\n",
       " ('DRIVER', 0.6287238597869873),\n",
       " ('Wieland_Schmitz', 0.6233162879943848),\n",
       " ('THE_BULLET', 0.6118887662887573),\n",
       " ('GRANDFATHER', 0.6045420169830322),\n",
       " (\"'M_YOUR\", 0.6012521386146545),\n",
       " ('##-YEAR-OLD', 0.600429356098175),\n",
       " ('POLICEMAN', 0.597124457359314),\n",
       " ('ON_STREET', 0.5960486531257629)]"
      ]
     },
     "execution_count": 108,
     "metadata": {},
     "output_type": "execute_result"
    }
   ],
   "source": [
    "googl_modle.most_similar('MAN')"
   ]
  },
  {
   "cell_type": "code",
   "execution_count": null,
   "id": "8164a996-9bc3-49a0-9682-2f6218d6fc23",
   "metadata": {},
   "outputs": [],
   "source": []
  }
 ],
 "metadata": {
  "kernelspec": {
   "display_name": "Python 3 (ipykernel)",
   "language": "python",
   "name": "python3"
  },
  "language_info": {
   "codemirror_mode": {
    "name": "ipython",
    "version": 3
   },
   "file_extension": ".py",
   "mimetype": "text/x-python",
   "name": "python",
   "nbconvert_exporter": "python",
   "pygments_lexer": "ipython3",
   "version": "3.11.7"
  }
 },
 "nbformat": 4,
 "nbformat_minor": 5
}
